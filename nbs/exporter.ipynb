{
 "cells": [
  {
   "cell_type": "code",
   "execution_count": 1,
   "metadata": {},
   "outputs": [
    {
     "name": "stderr",
     "output_type": "stream",
     "text": [
      "\u001b[32m2025-03-13 15:15:19.497\u001b[0m | \u001b[1mINFO    \u001b[0m | \u001b[36mdeimkit.exporter\u001b[0m:\u001b[36mto_onnx\u001b[0m:\u001b[36m48\u001b[0m - \u001b[1mLoading checkpoint from outputs/deim_hgnetv2_s_vehicles_50epochs_2/best.pth\u001b[0m\n",
      "/home/dnth/Desktop/DEIMKit/src/deimkit/exporter.py:49: FutureWarning: You are using `torch.load` with `weights_only=False` (the current default value), which uses the default pickle module implicitly. It is possible to construct malicious pickle data which will execute arbitrary code during unpickling (See https://github.com/pytorch/pytorch/blob/main/SECURITY.md#untrusted-models for more details). In a future release, the default value for `weights_only` will be flipped to `True`. This limits the functions that could be executed during unpickling. Arbitrary objects will no longer be allowed to be loaded via this mode unless they are explicitly allowlisted by the user via `torch.serialization.add_safe_globals`. We recommend you start setting `weights_only=True` for any use case where you don't have full control of the loaded file. Please open an issue on GitHub for any issues related to this experimental feature.\n",
      "  checkpoint = torch.load(checkpoint_path, map_location=\"cpu\")\n",
      "/home/dnth/Desktop/DEIMKit/src/deimkit/engine/backbone/hgnetv2.py:494: FutureWarning: You are using `torch.load` with `weights_only=False` (the current default value), which uses the default pickle module implicitly. It is possible to construct malicious pickle data which will execute arbitrary code during unpickling (See https://github.com/pytorch/pytorch/blob/main/SECURITY.md#untrusted-models for more details). In a future release, the default value for `weights_only` will be flipped to `True`. This limits the functions that could be executed during unpickling. Arbitrary objects will no longer be allowed to be loaded via this mode unless they are explicitly allowlisted by the user via `torch.serialization.add_safe_globals`. We recommend you start setting `weights_only=True` for any use case where you don't have full control of the loaded file. Please open an issue on GitHub for any issues related to this experimental feature.\n",
      "  state = torch.load(model_path, map_location='cpu')\n",
      "\u001b[32m2025-03-13 15:15:19.824\u001b[0m | \u001b[1mINFO    \u001b[0m | \u001b[36mdeimkit.exporter\u001b[0m:\u001b[36mto_onnx\u001b[0m:\u001b[36m70\u001b[0m - \u001b[1mInput shape not provided, getting size from config\u001b[0m\n",
      "\u001b[32m2025-03-13 15:15:19.825\u001b[0m | \u001b[1mINFO    \u001b[0m | \u001b[36mdeimkit.exporter\u001b[0m:\u001b[36mto_onnx\u001b[0m:\u001b[36m91\u001b[0m - \u001b[1mUsing input shape from config: (1, 3, 320, 320)\u001b[0m\n",
      "\u001b[32m2025-03-13 15:15:19.827\u001b[0m | \u001b[1mINFO    \u001b[0m | \u001b[36mdeimkit.exporter\u001b[0m:\u001b[36mto_onnx\u001b[0m:\u001b[36m103\u001b[0m - \u001b[1mExporting model to ONNX: outputs/deim_hgnetv2_s_vehicles_50epochs_2/model.onnx\u001b[0m\n"
     ]
    },
    {
     "name": "stdout",
     "output_type": "stream",
     "text": [
      "Loaded stage1 B0 HGNetV2 from local file.\n"
     ]
    },
    {
     "name": "stderr",
     "output_type": "stream",
     "text": [
      "/home/dnth/Desktop/DEIMKit/src/deimkit/engine/deim/dfine_decoder.py:644: TracerWarning: Converting a tensor to a Python boolean might cause the trace to be incorrect. We can't record the data flow of Python values, so this value will be treated as a constant in the future. This means that the trace might not generalize to other inputs!\n",
      "  if memory.shape[0] > 1:\n",
      "/home/dnth/Desktop/DEIMKit/src/deimkit/engine/deim/dfine_decoder.py:129: TracerWarning: Converting a tensor to a Python boolean might cause the trace to be incorrect. We can't record the data flow of Python values, so this value will be treated as a constant in the future. This means that the trace might not generalize to other inputs!\n",
      "  if reference_points.shape[-1] == 2:\n",
      "/home/dnth/Desktop/DEIMKit/src/deimkit/engine/deim/dfine_decoder.py:133: TracerWarning: Converting a tensor to a Python boolean might cause the trace to be incorrect. We can't record the data flow of Python values, so this value will be treated as a constant in the future. This means that the trace might not generalize to other inputs!\n",
      "  elif reference_points.shape[-1] == 4:\n",
      "/home/dnth/Desktop/DEIMKit/.pixi/envs/default/lib/python3.12/site-packages/torch/onnx/_internal/jit_utils.py:308: UserWarning: Constant folding - Only steps=1 can be constant folded for opset >= 10 onnx::Slice op. Constant folding not applied. (Triggered internally at ../torch/csrc/jit/passes/onnx/constant_fold.cpp:178.)\n",
      "  _C._jit_pass_onnx_node_shape_type_inference(node, params_dict, opset_version)\n",
      "/home/dnth/Desktop/DEIMKit/.pixi/envs/default/lib/python3.12/site-packages/torch/onnx/utils.py:663: UserWarning: Constant folding - Only steps=1 can be constant folded for opset >= 10 onnx::Slice op. Constant folding not applied. (Triggered internally at ../torch/csrc/jit/passes/onnx/constant_fold.cpp:178.)\n",
      "  _C._jit_pass_onnx_graph_shape_type_inference(\n",
      "/home/dnth/Desktop/DEIMKit/.pixi/envs/default/lib/python3.12/site-packages/torch/onnx/utils.py:1186: UserWarning: Constant folding - Only steps=1 can be constant folded for opset >= 10 onnx::Slice op. Constant folding not applied. (Triggered internally at ../torch/csrc/jit/passes/onnx/constant_fold.cpp:178.)\n",
      "  _C._jit_pass_onnx_graph_shape_type_inference(\n",
      "\u001b[32m2025-03-13 15:15:21.484\u001b[0m | \u001b[32m\u001b[1mSUCCESS \u001b[0m | \u001b[36mdeimkit.exporter\u001b[0m:\u001b[36mto_onnx\u001b[0m:\u001b[36m118\u001b[0m - \u001b[32m\u001b[1mONNX export completed successfully\u001b[0m\n",
      "\u001b[32m2025-03-13 15:15:21.652\u001b[0m | \u001b[1mINFO    \u001b[0m | \u001b[36mdeimkit.exporter\u001b[0m:\u001b[36m_check_onnx_model\u001b[0m:\u001b[36m158\u001b[0m - \u001b[1mONNX model validation successful\u001b[0m\n",
      "\u001b[32m2025-03-13 15:15:24.909\u001b[0m | \u001b[1mINFO    \u001b[0m | \u001b[36mdeimkit.exporter\u001b[0m:\u001b[36m_simplify_onnx_model\u001b[0m:\u001b[36m175\u001b[0m - \u001b[1mONNX model simplification successful\u001b[0m\n"
     ]
    }
   ],
   "source": [
    "from deimkit.exporter import Exporter\n",
    "from deimkit.config import Config\n",
    "\n",
    "config = Config(\"outputs/deim_hgnetv2_s_vehicles_50epochs_2/config.yml\")\n",
    "exporter = Exporter(config)\n",
    "\n",
    "output_path = exporter.to_onnx(\n",
    "    checkpoint_path=\"outputs/deim_hgnetv2_s_vehicles_50epochs_2/best.pth\",\n",
    "    output_path=\"outputs/deim_hgnetv2_s_vehicles_50epochs_2/model.onnx\",\n",
    ")"
   ]
  },
  {
   "cell_type": "code",
   "execution_count": null,
   "metadata": {},
   "outputs": [],
   "source": []
  }
 ],
 "metadata": {
  "kernelspec": {
   "display_name": "default",
   "language": "python",
   "name": "python3"
  },
  "language_info": {
   "codemirror_mode": {
    "name": "ipython",
    "version": 3
   },
   "file_extension": ".py",
   "mimetype": "text/x-python",
   "name": "python",
   "nbconvert_exporter": "python",
   "pygments_lexer": "ipython3",
   "version": "3.12.9"
  }
 },
 "nbformat": 4,
 "nbformat_minor": 2
}
