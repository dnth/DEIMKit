{
 "cells": [
  {
   "cell_type": "code",
   "execution_count": 1,
   "metadata": {},
   "outputs": [],
   "source": [
    "from deimkit import Trainer, Config, configure_dataset"
   ]
  },
  {
   "cell_type": "code",
   "execution_count": 2,
   "metadata": {},
   "outputs": [],
   "source": [
    "conf = Config.from_model_name(\"deim_hgnetv2_s\")\n",
    "\n",
    "# conf.print()"
   ]
  },
  {
   "cell_type": "code",
   "execution_count": 3,
   "metadata": {},
   "outputs": [],
   "source": [
    "conf = configure_dataset(\n",
    "    config=conf,\n",
    "    image_size=[320, 320],\n",
    "    train_ann_file=\"/home/dnth/Downloads/vehicles.v2-release.coco/train/_annotations.coco.json\",\n",
    "    train_img_folder=\"/home/dnth/Downloads/vehicles.v2-release.coco/train\",\n",
    "    val_ann_file=\"/home/dnth/Downloads/vehicles.v2-release.coco/valid/_annotations.coco.json\",\n",
    "    val_img_folder=\"/home/dnth/Downloads/vehicles.v2-release.coco/valid\",\n",
    "    train_batch_size=8,\n",
    "    val_batch_size=8,\n",
    "    num_classes=13,\n",
    "    output_dir=\"./outputs/deim_hgnetv2_s_vehicles_adjust_no_aug_epoch\",\n",
    ")\n"
   ]
  },
  {
   "cell_type": "code",
   "execution_count": 4,
   "metadata": {},
   "outputs": [],
   "source": [
    "# def update_resize_transform(transforms_list, new_size):\n",
    "#     for i, transform in enumerate(transforms_list):\n",
    "#         if transform.get('type') == 'Resize':\n",
    "#             transforms_list[i]['size'] = new_size\n",
    "#             return True\n",
    "#     return False\n",
    "\n",
    "# train_transforms = conf.get('yaml_cfg.train_dataloader.dataset.transforms.ops')\n",
    "# val_transforms = conf.get('yaml_cfg.val_dataloader.dataset.transforms.ops')\n",
    "\n",
    "# update_resize_transform(train_transforms, [320, 320])\n",
    "# update_resize_transform(val_transforms, [320, 320])\n",
    "\n",
    "\n",
    "# # Set the updated transforms back to the config\n",
    "# conf.set('yaml_cfg.train_dataloader.dataset.transforms.ops', train_transforms)\n",
    "# conf.set('yaml_cfg.val_dataloader.dataset.transforms.ops', val_transforms)\n",
    "# conf.set('yaml_cfg.eval_spatial_size', [320, 320])\n"
   ]
  },
  {
   "cell_type": "code",
   "execution_count": null,
   "metadata": {},
   "outputs": [],
   "source": []
  },
  {
   "cell_type": "code",
   "execution_count": 5,
   "metadata": {},
   "outputs": [],
   "source": [
    "# conf.update(\n",
    "#     **{'yaml_cfg.train_dataloader.dataset.ann_file': '/home/dnth/Downloads/Fridge objects.v5i.coco/train/_annotations.coco.json',\n",
    "#        'yaml_cfg.train_dataloader.dataset.img_folder': '/home/dnth/Downloads/Fridge objects.v5i.coco/train',\n",
    "#        'yaml_cfg.train_dataloader.total_batch_size': 16,\n",
    "#        'yaml_cfg.val_dataloader.dataset.ann_file': '/home/dnth/Downloads/Fridge objects.v5i.coco/valid/_annotations.coco.json',\n",
    "#        'yaml_cfg.val_dataloader.dataset.img_folder': '/home/dnth/Downloads/Fridge objects.v5i.coco/valid',\n",
    "#        'yaml_cfg.val_dataloader.total_batch_size': 16,\n",
    "#        'yaml_cfg.remap_mscoco_category': False,\n",
    "#        'yaml_cfg.num_classes': 11,\n",
    "#        'output_dir': './outputs/deim_hgnetv2_s_fridge_70e',\n",
    "#     #    'ema_warmups': 200,\n",
    "#     #    'warmup_iter': 200,\n",
    "#     #    'epoches': 80,\n",
    "#     #    'flat_epoch': 40,\n",
    "#     #    'no_aug_epoch': 5\n",
    "#        }\n",
    "# )"
   ]
  },
  {
   "cell_type": "code",
   "execution_count": 6,
   "metadata": {},
   "outputs": [],
   "source": [
    "# conf.get('yaml_cfg.optimizer.lr')"
   ]
  },
  {
   "cell_type": "code",
   "execution_count": 7,
   "metadata": {},
   "outputs": [],
   "source": [
    "# conf.update(\n",
    "#     **{'yaml_cfg.optimizer.lr': 0.001}\n",
    "# )\n",
    "# conf.get('yaml_cfg.optimizer.lr')"
   ]
  },
  {
   "cell_type": "code",
   "execution_count": 8,
   "metadata": {},
   "outputs": [
    {
     "name": "stderr",
     "output_type": "stream",
     "text": [
      "\u001b[32m2025-03-12 18:02:12.705\u001b[0m | \u001b[1mINFO    \u001b[0m | \u001b[36mdeimkit.trainer\u001b[0m:\u001b[36m_init_process_group\u001b[0m:\u001b[36m57\u001b[0m - \u001b[1mInitializing process group for single-process training\u001b[0m\n",
      "\u001b[32m2025-03-12 18:02:12.711\u001b[0m | \u001b[1mINFO    \u001b[0m | \u001b[36mdeimkit.trainer\u001b[0m:\u001b[36m_init_process_group\u001b[0m:\u001b[36m76\u001b[0m - \u001b[1mProcess group initialized successfully\u001b[0m\n",
      "\u001b[32m2025-03-12 18:02:12.712\u001b[0m | \u001b[1mINFO    \u001b[0m | \u001b[36mdeimkit.trainer\u001b[0m:\u001b[36mfit\u001b[0m:\u001b[36m203\u001b[0m - \u001b[1mStarting training...\u001b[0m\n",
      "\u001b[32m2025-03-12 18:02:12.712\u001b[0m | \u001b[1mINFO    \u001b[0m | \u001b[36mdeimkit.trainer\u001b[0m:\u001b[36mfit\u001b[0m:\u001b[36m206\u001b[0m - \u001b[1mOverriding epochs to 100\u001b[0m\n",
      "\u001b[32m2025-03-12 18:02:12.713\u001b[0m | \u001b[1mINFO    \u001b[0m | \u001b[36mdeimkit.trainer\u001b[0m:\u001b[36mfit\u001b[0m:\u001b[36m209\u001b[0m - \u001b[1mOverriding flat epochs to 50\u001b[0m\n",
      "\u001b[32m2025-03-12 18:02:12.713\u001b[0m | \u001b[1mINFO    \u001b[0m | \u001b[36mdeimkit.trainer\u001b[0m:\u001b[36mfit\u001b[0m:\u001b[36m212\u001b[0m - \u001b[1mOverriding no augmentation epochs to 3\u001b[0m\n",
      "\u001b[32m2025-03-12 18:02:12.713\u001b[0m | \u001b[1mINFO    \u001b[0m | \u001b[36mdeimkit.trainer\u001b[0m:\u001b[36mfit\u001b[0m:\u001b[36m247\u001b[0m - \u001b[1mAutomatically calculated mixup epochs: [4, 50]\u001b[0m\n",
      "\u001b[32m2025-03-12 18:02:12.714\u001b[0m | \u001b[1mINFO    \u001b[0m | \u001b[36mdeimkit.trainer\u001b[0m:\u001b[36mfit\u001b[0m:\u001b[36m257\u001b[0m - \u001b[1mAutomatically calculated data augmentation epochs: 4, 50, 90\u001b[0m\n",
      "\u001b[32m2025-03-12 18:02:12.715\u001b[0m | \u001b[1mINFO    \u001b[0m | \u001b[36mdeimkit.trainer\u001b[0m:\u001b[36mfit\u001b[0m:\u001b[36m273\u001b[0m - \u001b[1mAutomatically calculated warmup iterations: 1317\u001b[0m\n",
      "\u001b[32m2025-03-12 18:02:12.715\u001b[0m | \u001b[1mINFO    \u001b[0m | \u001b[36mdeimkit.trainer\u001b[0m:\u001b[36mfit\u001b[0m:\u001b[36m278\u001b[0m - \u001b[1mAutomatically calculated EMA warmups: 1317\u001b[0m\n",
      "\u001b[32m2025-03-12 18:02:12.716\u001b[0m | \u001b[1mINFO    \u001b[0m | \u001b[36mdeimkit.trainer\u001b[0m:\u001b[36m_setup\u001b[0m:\u001b[36m140\u001b[0m - \u001b[1mDisabling sync_bn and find_unused_parameters for single-process training\u001b[0m\n",
      "\u001b[32m2025-03-12 18:02:12.716\u001b[0m | \u001b[1mINFO    \u001b[0m | \u001b[36mdeimkit.trainer\u001b[0m:\u001b[36m_setup\u001b[0m:\u001b[36m148\u001b[0m - \u001b[1mInitializing solver for task: detection\u001b[0m\n",
      "/home/dnth/Desktop/DEIMKit/src/deimkit/engine/backbone/hgnetv2.py:494: FutureWarning: You are using `torch.load` with `weights_only=False` (the current default value), which uses the default pickle module implicitly. It is possible to construct malicious pickle data which will execute arbitrary code during unpickling (See https://github.com/pytorch/pytorch/blob/main/SECURITY.md#untrusted-models for more details). In a future release, the default value for `weights_only` will be flipped to `True`. This limits the functions that could be executed during unpickling. Arbitrary objects will no longer be allowed to be loaded via this mode unless they are explicitly allowlisted by the user via `torch.serialization.add_safe_globals`. We recommend you start setting `weights_only=True` for any use case where you don't have full control of the loaded file. Please open an issue on GitHub for any issues related to this experimental feature.\n",
      "  state = torch.load(model_path, map_location='cpu')\n"
     ]
    },
    {
     "name": "stdout",
     "output_type": "stream",
     "text": [
      "Loaded stage1 B0 HGNetV2 from local file.\n"
     ]
    },
    {
     "name": "stderr",
     "output_type": "stream",
     "text": [
      "/home/dnth/Desktop/DEIMKit/src/deimkit/engine/core/workspace.py:180: FutureWarning: `torch.cuda.amp.GradScaler(args...)` is deprecated. Please use `torch.amp.GradScaler('cuda', args...)` instead.\n",
      "  return module(**module_kwargs)\n"
     ]
    },
    {
     "name": "stdout",
     "output_type": "stream",
     "text": [
      "Initial lr: [0.0002, 0.0004, 0.0004]\n",
      "building train_dataloader with batch_size=8...\n",
      "     ### Transform @Mosaic ###    \n",
      "     ### Transform @RandomPhotometricDistort ###    \n",
      "     ### Transform @RandomZoomOut ###    \n",
      "     ### Transform @RandomIoUCrop ###    \n",
      "     ### Transform @SanitizeBoundingBoxes ###    \n",
      "     ### Transform @RandomHorizontalFlip ###    \n",
      "     ### Transform @Resize ###    \n",
      "     ### Transform @SanitizeBoundingBoxes ###    \n",
      "     ### Transform @ConvertPILImage ###    \n",
      "     ### Transform @ConvertBoxes ###    \n",
      "     ### Mosaic with Prob.@0.5 and ZoomOut/IoUCrop existed ### \n",
      "     ### ImgTransforms Epochs: [4, 50, 90] ### \n",
      "     ### Policy_ops@['Mosaic', 'RandomPhotometricDistort', 'RandomZoomOut', 'RandomIoUCrop'] ###\n",
      "     ### Using MixUp with Prob@0.5 in [4, 50] epochs ### \n",
      "     ### Multi-scale Training until 1000000000 epochs ### \n",
      "     ### Multi-scales@ [224, 256, 288, 320, 320, 320, 320, 320, 320, 320, 320, 320, 320, 320, 320, 320, 320, 320, 320, 320, 320, 320, 320, 384, 352, 320] ###        \n",
      "building val_dataloader with batch_size=8...\n",
      "     ### Transform @Resize ###    \n",
      "     ### Transform @ConvertPILImage ###    \n"
     ]
    },
    {
     "name": "stderr",
     "output_type": "stream",
     "text": [
      "\u001b[32m2025-03-12 18:02:13.414\u001b[0m | \u001b[1mINFO    \u001b[0m | \u001b[36mdeimkit.trainer\u001b[0m:\u001b[36m_setup\u001b[0m:\u001b[36m175\u001b[0m - \u001b[1mTraining setup complete. Output directory: outputs/deim_hgnetv2_s_vehicles_adjust_warmup_pretrained\u001b[0m\n",
      "\u001b[32m2025-03-12 18:02:13.415\u001b[0m | \u001b[1mINFO    \u001b[0m | \u001b[36mdeimkit.trainer\u001b[0m:\u001b[36mfit\u001b[0m:\u001b[36m289\u001b[0m - \u001b[1mNumber of trainable parameters: 10235847\u001b[0m\n",
      "\u001b[32m2025-03-12 18:02:13.416\u001b[0m | \u001b[1mINFO    \u001b[0m | \u001b[36mdeimkit.trainer\u001b[0m:\u001b[36mfit\u001b[0m:\u001b[36m295\u001b[0m - \u001b[1mUsing custom scheduler: flatcosine\u001b[0m\n",
      "\u001b[32m2025-03-12 18:02:13.416\u001b[0m | \u001b[1mINFO    \u001b[0m | \u001b[36mdeimkit.trainer\u001b[0m:\u001b[36mfit\u001b[0m:\u001b[36m312\u001b[0m - \u001b[1mEpoch 0/100\u001b[0m\n"
     ]
    },
    {
     "name": "stdout",
     "output_type": "stream",
     "text": [
      "[0.0002, 0.0004, 0.0004] [0.0001, 0.0002, 0.0002] 32900 1317 16450 987\n"
     ]
    },
    {
     "name": "stderr",
     "output_type": "stream",
     "text": [
      "Epoch 0:  21%|██        | 69/329 [00:14<00:48,  5.32it/s, loss=31.9177]"
     ]
    },
    {
     "ename": "KeyboardInterrupt",
     "evalue": "",
     "output_type": "error",
     "traceback": [
      "\u001b[31m---------------------------------------------------------------------------\u001b[39m",
      "\u001b[31mKeyboardInterrupt\u001b[39m                         Traceback (most recent call last)",
      "\u001b[36mCell\u001b[39m\u001b[36m \u001b[39m\u001b[32mIn[8]\u001b[39m\u001b[32m, line 3\u001b[39m\n\u001b[32m      1\u001b[39m trainer = Trainer(conf)\n\u001b[32m----> \u001b[39m\u001b[32m3\u001b[39m \u001b[43mtrainer\u001b[49m\u001b[43m.\u001b[49m\u001b[43mfit\u001b[49m\u001b[43m(\u001b[49m\n\u001b[32m      4\u001b[39m \u001b[43m    \u001b[49m\u001b[43mepochs\u001b[49m\u001b[43m=\u001b[49m\u001b[32;43m100\u001b[39;49m\u001b[43m,\u001b[49m\n\u001b[32m      5\u001b[39m \u001b[43m    \u001b[49m\u001b[43mflat_epoch\u001b[49m\u001b[43m=\u001b[49m\u001b[32;43m50\u001b[39;49m\u001b[43m,\u001b[49m\n\u001b[32m      6\u001b[39m \u001b[43m    \u001b[49m\u001b[43mno_aug_epoch\u001b[49m\u001b[43m=\u001b[49m\u001b[32;43m3\u001b[39;49m\u001b[43m,\u001b[49m\n\u001b[32m      7\u001b[39m \u001b[43m    \u001b[49m\u001b[38;5;66;43;03m# warmup_iter=50,\u001b[39;49;00m\n\u001b[32m      8\u001b[39m \u001b[43m    \u001b[49m\u001b[38;5;66;43;03m# ema_warmups=50,\u001b[39;49;00m\n\u001b[32m      9\u001b[39m \u001b[43m)\u001b[49m\n",
      "\u001b[36mFile \u001b[39m\u001b[32m~/Desktop/DEIMKit/src/deimkit/trainer.py:318\u001b[39m, in \u001b[36mTrainer.fit\u001b[39m\u001b[34m(self, epochs, flat_epoch, no_aug_epoch, warmup_iter, ema_warmups, lr, stop_epoch, mixup_epochs)\u001b[39m\n\u001b[32m    315\u001b[39m     \u001b[38;5;28mself\u001b[39m.train_dataloader.set_epoch(epoch)\n\u001b[32m    317\u001b[39m \u001b[38;5;66;03m# Train for one epoch\u001b[39;00m\n\u001b[32m--> \u001b[39m\u001b[32m318\u001b[39m train_stats = \u001b[43mtrain_one_epoch\u001b[49m\u001b[43m(\u001b[49m\n\u001b[32m    319\u001b[39m \u001b[43m    \u001b[49m\u001b[43mself_lr_scheduler\u001b[49m\u001b[43m,\u001b[49m\n\u001b[32m    320\u001b[39m \u001b[43m    \u001b[49m\u001b[38;5;28;43mself\u001b[39;49m\u001b[43m.\u001b[49m\u001b[43mlr_scheduler\u001b[49m\u001b[43m,\u001b[49m\n\u001b[32m    321\u001b[39m \u001b[43m    \u001b[49m\u001b[38;5;28;43mself\u001b[39;49m\u001b[43m.\u001b[49m\u001b[43mmodel\u001b[49m\u001b[43m,\u001b[49m\n\u001b[32m    322\u001b[39m \u001b[43m    \u001b[49m\u001b[38;5;28;43mself\u001b[39;49m\u001b[43m.\u001b[49m\u001b[43mcriterion\u001b[49m\u001b[43m,\u001b[49m\n\u001b[32m    323\u001b[39m \u001b[43m    \u001b[49m\u001b[38;5;28;43mself\u001b[39;49m\u001b[43m.\u001b[49m\u001b[43mtrain_dataloader\u001b[49m\u001b[43m,\u001b[49m\n\u001b[32m    324\u001b[39m \u001b[43m    \u001b[49m\u001b[38;5;28;43mself\u001b[39;49m\u001b[43m.\u001b[49m\u001b[43moptimizer\u001b[49m\u001b[43m,\u001b[49m\n\u001b[32m    325\u001b[39m \u001b[43m    \u001b[49m\u001b[38;5;28;43mself\u001b[39;49m\u001b[43m.\u001b[49m\u001b[43mdevice\u001b[49m\u001b[43m,\u001b[49m\n\u001b[32m    326\u001b[39m \u001b[43m    \u001b[49m\u001b[43mepoch\u001b[49m\u001b[43m,\u001b[49m\n\u001b[32m    327\u001b[39m \u001b[43m    \u001b[49m\u001b[43mmax_norm\u001b[49m\u001b[43m=\u001b[49m\u001b[43mclip_max_norm\u001b[49m\u001b[43m,\u001b[49m\n\u001b[32m    328\u001b[39m \u001b[43m    \u001b[49m\u001b[43mprint_freq\u001b[49m\u001b[43m=\u001b[49m\u001b[43mprint_freq\u001b[49m\u001b[43m,\u001b[49m\n\u001b[32m    329\u001b[39m \u001b[43m    \u001b[49m\u001b[43mema\u001b[49m\u001b[43m=\u001b[49m\u001b[38;5;28;43mself\u001b[39;49m\u001b[43m.\u001b[49m\u001b[43mema\u001b[49m\u001b[43m,\u001b[49m\n\u001b[32m    330\u001b[39m \u001b[43m    \u001b[49m\u001b[43mscaler\u001b[49m\u001b[43m=\u001b[49m\u001b[38;5;28;43mself\u001b[39;49m\u001b[43m.\u001b[49m\u001b[43mscaler\u001b[49m\u001b[43m,\u001b[49m\n\u001b[32m    331\u001b[39m \u001b[43m    \u001b[49m\u001b[43mlr_warmup_scheduler\u001b[49m\u001b[43m=\u001b[49m\u001b[38;5;28;43mself\u001b[39;49m\u001b[43m.\u001b[49m\u001b[43mlr_warmup_scheduler\u001b[49m\u001b[43m,\u001b[49m\n\u001b[32m    332\u001b[39m \u001b[43m    \u001b[49m\u001b[43mwriter\u001b[49m\u001b[43m=\u001b[49m\u001b[38;5;28;43mself\u001b[39;49m\u001b[43m.\u001b[49m\u001b[43msolver\u001b[49m\u001b[43m.\u001b[49m\u001b[43mwriter\u001b[49m\u001b[43m \u001b[49m\u001b[38;5;28;43;01mif\u001b[39;49;00m\u001b[43m \u001b[49m\u001b[38;5;28;43mhasattr\u001b[39;49m\u001b[43m(\u001b[49m\u001b[38;5;28;43mself\u001b[39;49m\u001b[43m.\u001b[49m\u001b[43msolver\u001b[49m\u001b[43m,\u001b[49m\u001b[43m \u001b[49m\u001b[33;43m\"\u001b[39;49m\u001b[33;43mwriter\u001b[39;49m\u001b[33;43m\"\u001b[39;49m\u001b[43m)\u001b[49m\u001b[43m \u001b[49m\u001b[38;5;28;43;01melse\u001b[39;49;00m\u001b[43m \u001b[49m\u001b[38;5;28;43;01mNone\u001b[39;49;00m\u001b[43m,\u001b[49m\n\u001b[32m    333\u001b[39m \u001b[43m\u001b[49m\u001b[43m)\u001b[49m\n\u001b[32m    335\u001b[39m \u001b[38;5;66;03m# Update learning rate scheduler\u001b[39;00m\n\u001b[32m    336\u001b[39m \u001b[38;5;28;01mif\u001b[39;00m \u001b[38;5;129;01mnot\u001b[39;00m self_lr_scheduler:\n",
      "\u001b[36mFile \u001b[39m\u001b[32m~/Desktop/DEIMKit/src/deimkit/engine/solver/det_engine.py:97\u001b[39m, in \u001b[36mtrain_one_epoch\u001b[39m\u001b[34m(self_lr_scheduler, lr_scheduler, model, criterion, data_loader, optimizer, device, epoch, max_norm, **kwargs)\u001b[39m\n\u001b[32m     95\u001b[39m \u001b[38;5;66;03m# ema\u001b[39;00m\n\u001b[32m     96\u001b[39m \u001b[38;5;28;01mif\u001b[39;00m ema \u001b[38;5;129;01mis\u001b[39;00m \u001b[38;5;129;01mnot\u001b[39;00m \u001b[38;5;28;01mNone\u001b[39;00m:\n\u001b[32m---> \u001b[39m\u001b[32m97\u001b[39m     \u001b[43mema\u001b[49m\u001b[43m.\u001b[49m\u001b[43mupdate\u001b[49m\u001b[43m(\u001b[49m\u001b[43mmodel\u001b[49m\u001b[43m)\u001b[49m\n\u001b[32m     99\u001b[39m \u001b[38;5;28;01mif\u001b[39;00m self_lr_scheduler:\n\u001b[32m    100\u001b[39m     optimizer = lr_scheduler.step(cur_iters + i, optimizer)\n",
      "\u001b[36mFile \u001b[39m\u001b[32m~/Desktop/DEIMKit/src/deimkit/engine/optim/ema.py:66\u001b[39m, in \u001b[36mModelEMA.update\u001b[39m\u001b[34m(self, model)\u001b[39m\n\u001b[32m     64\u001b[39m \u001b[38;5;28;01mif\u001b[39;00m v.dtype.is_floating_point:\n\u001b[32m     65\u001b[39m     v *= d\n\u001b[32m---> \u001b[39m\u001b[32m66\u001b[39m     v += (\u001b[32m1\u001b[39m - d) * \u001b[43mmsd\u001b[49m\u001b[43m[\u001b[49m\u001b[43mk\u001b[49m\u001b[43m]\u001b[49m\u001b[43m.\u001b[49m\u001b[43mdetach\u001b[49m\u001b[43m(\u001b[49m\u001b[43m)\u001b[49m\n",
      "\u001b[31mKeyboardInterrupt\u001b[39m: "
     ]
    }
   ],
   "source": [
    "trainer = Trainer(conf)\n",
    "\n",
    "trainer.fit(\n",
    "    epochs=100,\n",
    "    flat_epoch=50,\n",
    "    no_aug_epoch=3,\n",
    "    # warmup_iter=50,\n",
    "    # ema_warmups=50,\n",
    ")"
   ]
  },
  {
   "cell_type": "code",
   "execution_count": 9,
   "metadata": {},
   "outputs": [
    {
     "data": {
      "text/plain": [
       "task: detection\n",
       "num_workers: 0\n",
       "batch_size: None\n",
       "resume: None\n",
       "tuning: None\n",
       "epoches: 100\n",
       "last_epoch: -1\n",
       "lrsheduler: flatcosine\n",
       "lr_gamma: 0.5\n",
       "no_aug_epoch: 3\n",
       "warmup_iter: 1317\n",
       "flat_epoch: 50\n",
       "use_amp: True\n",
       "use_ema: True\n",
       "ema_decay: 0.9999\n",
       "ema_warmups: 1317\n",
       "sync_bn: False\n",
       "clip_max_norm: 0.1\n",
       "find_unused_parameters: False\n",
       "seed: None\n",
       "print_freq: 100\n",
       "checkpoint_freq: 4\n",
       "output_dir: ./outputs/deim_hgnetv2_s_vehicles_adjust_warmup_pretrained\n",
       "summary_dir: None\n",
       "device: \n",
       "yaml_cfg: {'task': 'detection', 'evaluator': {'type': 'CocoEvaluator', 'iou_types': ['bbox']}, 'num_classes': 13, 'remap_mscoco_category': False, 'train_dataloader': {'type': 'DataLoader', 'dataset': {'type': 'CocoDetection', 'img_folder': '/home/dnth/Downloads/vehicles.v2-release.coco/train', 'ann_file': '/home/dnth/Downloads/vehicles.v2-release.coco/train/_annotations.coco.json', 'return_masks': False, 'transforms': {'type': 'Compose', 'ops': [{'type': 'Mosaic', 'fill_value': 0, 'max_cached_images': 50, 'output_size': 320, 'probability': 1.0, 'random_pop': True, 'rotation_range': 10, 'scaling_range': [0.5, 1.5], 'translation_range': [0.1, 0.1], 'use_cache': False}, {'type': 'RandomPhotometricDistort', 'p': 0.5}, {'type': 'RandomZoomOut', 'fill': 0}, {'type': 'RandomIoUCrop', 'p': 0.8}, {'type': 'SanitizeBoundingBoxes', 'min_size': 1}, {'type': 'RandomHorizontalFlip'}, {'type': 'Resize', 'size': [320, 320]}, {'type': 'SanitizeBoundingBoxes', 'min_size': 1}, {'type': 'ConvertPILImage', 'dtype': 'float32', 'scale': True}, {'type': 'ConvertBoxes', 'fmt': 'cxcywh', 'normalize': True}], 'policy': {'name': 'stop_epoch', 'epoch': [4, 50, 90], 'ops': ['Mosaic', 'RandomPhotometricDistort', 'RandomZoomOut', 'RandomIoUCrop']}, 'mosaic_prob': 0.5}}, 'shuffle': True, 'num_workers': 4, 'drop_last': True, 'collate_fn': {'type': 'BatchImageCollateFunction', 'base_size': 320, 'base_size_repeat': 20, 'stop_epoch': 1000000000, 'ema_restart_decay': 0.9999, 'mixup_prob': 0.5, 'mixup_epochs': [4, 50]}, 'total_batch_size': 8}, 'val_dataloader': {'type': 'DataLoader', 'dataset': {'type': 'CocoDetection', 'img_folder': '/home/dnth/Downloads/vehicles.v2-release.coco/valid', 'ann_file': '/home/dnth/Downloads/vehicles.v2-release.coco/valid/_annotations.coco.json', 'return_masks': False, 'transforms': {'type': 'Compose', 'ops': [{'type': 'Resize', 'size': [320, 320]}, {'type': 'ConvertPILImage', 'dtype': 'float32', 'scale': True}]}}, 'shuffle': False, 'num_workers': 4, 'drop_last': False, 'collate_fn': {'type': 'BatchImageCollateFunction'}, 'total_batch_size': 8}, 'print_freq': 100, 'output_dir': './outputs/deim_hgnetv2_s_coco', 'checkpoint_freq': 4, 'sync_bn': True, 'find_unused_parameters': False, 'use_amp': True, 'scaler': {'type': 'GradScaler', 'enabled': True}, 'use_ema': True, 'ema': {'type': 'ModelEMA', 'decay': 0.9999, 'warmups': 1000, 'start': 0}, 'epoches': 132, 'clip_max_norm': 0.1, 'optimizer': {'type': 'AdamW', 'params': [{'params': '^(?=.*backbone)(?!.*bn).*$', 'lr': 0.0002}, {'params': '^(?=.*(?:norm|bn)).*$', 'weight_decay': 0.0}], 'lr': 0.0004, 'betas': [0.9, 0.999], 'weight_decay': 0.0001}, 'lr_scheduler': {'type': 'MultiStepLR', 'milestones': [500], 'gamma': 0.1}, 'lr_warmup_scheduler': {'type': 'LinearWarmup', 'warmup_duration': 500}, 'model': 'DEIM', 'criterion': 'DEIMCriterion', 'postprocessor': 'PostProcessor', 'use_focal_loss': True, 'eval_spatial_size': [320, 320], 'DEIM': {'backbone': 'HGNetv2', 'encoder': 'HybridEncoder', 'decoder': 'DFINETransformer'}, 'lrsheduler': 'flatcosine', 'lr_gamma': 0.5, 'warmup_iter': 2000, 'flat_epoch': 64, 'no_aug_epoch': 12, 'HGNetv2': {'pretrained': True, 'local_model_dir': '../RT-DETR-main/D-FINE/weight/hgnetv2/', 'name': 'B0', 'return_idx': [1, 2, 3], 'freeze_at': -1, 'freeze_norm': False, 'use_lab': True}, 'HybridEncoder': {'in_channels': [256, 512, 1024], 'feat_strides': [8, 16, 32], 'hidden_dim': 256, 'use_encoder_idx': [2], 'num_encoder_layers': 1, 'nhead': 8, 'dim_feedforward': 1024, 'dropout': 0.0, 'enc_act': 'gelu', 'expansion': 0.5, 'depth_mult': 0.34, 'act': 'silu'}, 'DFINETransformer': {'feat_channels': [256, 256, 256], 'feat_strides': [8, 16, 32], 'hidden_dim': 256, 'num_levels': 3, 'num_layers': 3, 'eval_idx': -1, 'num_queries': 300, 'num_denoising': 100, 'label_noise_ratio': 0.5, 'box_noise_scale': 1.0, 'reg_max': 32, 'reg_scale': 4, 'layer_scale': 1, 'num_points': [3, 6, 3], 'cross_attn_method': 'default', 'query_select_method': 'default', 'activation': 'silu', 'mlp_act': 'silu'}, 'PostProcessor': {'num_top_queries': 300}, 'DEIMCriterion': {'weight_dict': {'loss_vfl': 1, 'loss_bbox': 5, 'loss_giou': 2, 'loss_fgl': 0.15, 'loss_ddf': 1.5, 'loss_mal': 1}, 'losses': ['mal', 'boxes', 'local'], 'alpha': 0.75, 'gamma': 1.5, 'reg_max': 32, 'matcher': {'type': 'HungarianMatcher', 'weight_dict': {'cost_class': 2, 'cost_bbox': 5, 'cost_giou': 2}, 'alpha': 0.25, 'gamma': 2.0}}, '__include__': ['./dfine_hgnetv2_s_coco.yml', '../base/deim.yml']}"
      ]
     },
     "execution_count": 9,
     "metadata": {},
     "output_type": "execute_result"
    }
   ],
   "source": [
    "conf.save('my_train_config.yml')"
   ]
  },
  {
   "cell_type": "code",
   "execution_count": null,
   "metadata": {},
   "outputs": [],
   "source": []
  }
 ],
 "metadata": {
  "kernelspec": {
   "display_name": "default",
   "language": "python",
   "name": "python3"
  },
  "language_info": {
   "codemirror_mode": {
    "name": "ipython",
    "version": 3
   },
   "file_extension": ".py",
   "mimetype": "text/x-python",
   "name": "python",
   "nbconvert_exporter": "python",
   "pygments_lexer": "ipython3",
   "version": "3.12.9"
  }
 },
 "nbformat": 4,
 "nbformat_minor": 2
}
