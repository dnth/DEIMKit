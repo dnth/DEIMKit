{
 "cells": [
  {
   "cell_type": "code",
   "execution_count": 1,
   "metadata": {},
   "outputs": [],
   "source": [
    "from deimkit import Trainer, Config, configure_dataset"
   ]
  },
  {
   "cell_type": "code",
   "execution_count": 2,
   "metadata": {},
   "outputs": [],
   "source": [
    "conf = Config.from_model_name(\"deim_hgnetv2_s\")\n"
   ]
  },
  {
   "cell_type": "code",
   "execution_count": 3,
   "metadata": {},
   "outputs": [],
   "source": [
    "conf = configure_dataset(\n",
    "    config=conf,\n",
    "    image_size=[320, 320],\n",
    "    train_ann_file=\"/home/dnth/Downloads/vehicles.v2-release.coco/train/_annotations.coco.json\",\n",
    "    train_img_folder=\"/home/dnth/Downloads/vehicles.v2-release.coco/train\",\n",
    "    val_ann_file=\"/home/dnth/Downloads/vehicles.v2-release.coco/valid/_annotations.coco.json\",\n",
    "    val_img_folder=\"/home/dnth/Downloads/vehicles.v2-release.coco/valid\",\n",
    "    train_batch_size=10,\n",
    "    val_batch_size=10,\n",
    "    num_classes=13,\n",
    "    output_dir=\"./outputs/test_custom_transforms/deim_hgnetv2_n_vehicles\",\n",
    ")"
   ]
  },
  {
   "cell_type": "code",
   "execution_count": 4,
   "metadata": {},
   "outputs": [
    {
     "name": "stderr",
     "output_type": "stream",
     "text": [
      "\u001b[32m2025-03-12 14:59:59.961\u001b[0m | \u001b[1mINFO    \u001b[0m | \u001b[36mdeimkit.trainer\u001b[0m:\u001b[36m_init_process_group\u001b[0m:\u001b[36m57\u001b[0m - \u001b[1mInitializing process group for single-process training\u001b[0m\n",
      "\u001b[32m2025-03-12 14:59:59.964\u001b[0m | \u001b[1mINFO    \u001b[0m | \u001b[36mdeimkit.trainer\u001b[0m:\u001b[36m_init_process_group\u001b[0m:\u001b[36m76\u001b[0m - \u001b[1mProcess group initialized successfully\u001b[0m\n",
      "\u001b[32m2025-03-12 14:59:59.964\u001b[0m | \u001b[1mINFO    \u001b[0m | \u001b[36mdeimkit.trainer\u001b[0m:\u001b[36mfit\u001b[0m:\u001b[36m203\u001b[0m - \u001b[1mStarting training...\u001b[0m\n",
      "\u001b[32m2025-03-12 14:59:59.964\u001b[0m | \u001b[1mINFO    \u001b[0m | \u001b[36mdeimkit.trainer\u001b[0m:\u001b[36mfit\u001b[0m:\u001b[36m206\u001b[0m - \u001b[1mOverriding epochs to 70\u001b[0m\n",
      "\u001b[32m2025-03-12 14:59:59.965\u001b[0m | \u001b[1mINFO    \u001b[0m | \u001b[36mdeimkit.trainer\u001b[0m:\u001b[36mfit\u001b[0m:\u001b[36m209\u001b[0m - \u001b[1mOverriding flat epochs to 35\u001b[0m\n",
      "\u001b[32m2025-03-12 14:59:59.965\u001b[0m | \u001b[1mINFO    \u001b[0m | \u001b[36mdeimkit.trainer\u001b[0m:\u001b[36mfit\u001b[0m:\u001b[36m212\u001b[0m - \u001b[1mOverriding no augmentation epochs to 5\u001b[0m\n",
      "\u001b[32m2025-03-12 14:59:59.965\u001b[0m | \u001b[1mINFO    \u001b[0m | \u001b[36mdeimkit.trainer\u001b[0m:\u001b[36mfit\u001b[0m:\u001b[36m215\u001b[0m - \u001b[1mOverriding warmup iterations to 200\u001b[0m\n",
      "\u001b[32m2025-03-12 14:59:59.965\u001b[0m | \u001b[1mINFO    \u001b[0m | \u001b[36mdeimkit.trainer\u001b[0m:\u001b[36mfit\u001b[0m:\u001b[36m218\u001b[0m - \u001b[1mOverriding EMA warmups to 200\u001b[0m\n",
      "\u001b[32m2025-03-12 14:59:59.966\u001b[0m | \u001b[1mINFO    \u001b[0m | \u001b[36mdeimkit.trainer\u001b[0m:\u001b[36mfit\u001b[0m:\u001b[36m247\u001b[0m - \u001b[1mAutomatically calculated mixup epochs: [2, 35]\u001b[0m\n",
      "\u001b[32m2025-03-12 14:59:59.966\u001b[0m | \u001b[1mINFO    \u001b[0m | \u001b[36mdeimkit.trainer\u001b[0m:\u001b[36mfit\u001b[0m:\u001b[36m257\u001b[0m - \u001b[1mAutomatically calculated data augmentation epochs: 2, 35, 63\u001b[0m\n",
      "\u001b[32m2025-03-12 14:59:59.966\u001b[0m | \u001b[1mINFO    \u001b[0m | \u001b[36mdeimkit.trainer\u001b[0m:\u001b[36m_setup\u001b[0m:\u001b[36m134\u001b[0m - \u001b[1mSetting HGNetv2 pretrained to False to avoid distributed issues\u001b[0m\n",
      "\u001b[32m2025-03-12 14:59:59.966\u001b[0m | \u001b[1mINFO    \u001b[0m | \u001b[36mdeimkit.trainer\u001b[0m:\u001b[36m_setup\u001b[0m:\u001b[36m140\u001b[0m - \u001b[1mDisabling sync_bn and find_unused_parameters for single-process training\u001b[0m\n",
      "\u001b[32m2025-03-12 14:59:59.967\u001b[0m | \u001b[1mINFO    \u001b[0m | \u001b[36mdeimkit.trainer\u001b[0m:\u001b[36m_setup\u001b[0m:\u001b[36m148\u001b[0m - \u001b[1mInitializing solver for task: detection\u001b[0m\n",
      "/home/dnth/Desktop/DEIMKit/src/deimkit/engine/core/workspace.py:180: FutureWarning: `torch.cuda.amp.GradScaler(args...)` is deprecated. Please use `torch.amp.GradScaler('cuda', args...)` instead.\n",
      "  return module(**module_kwargs)\n"
     ]
    },
    {
     "name": "stdout",
     "output_type": "stream",
     "text": [
      "Initial lr: [0.0002, 0.0004, 0.0004]\n",
      "building train_dataloader with batch_size=10...\n",
      "     ### Transform @Mosaic ###    \n",
      "     ### Transform @RandomPhotometricDistort ###    \n",
      "     ### Transform @RandomZoomOut ###    \n",
      "     ### Transform @RandomIoUCrop ###    \n",
      "     ### Transform @SanitizeBoundingBoxes ###    \n",
      "     ### Transform @RandomHorizontalFlip ###    \n",
      "     ### Transform @Resize ###    \n",
      "     ### Transform @SanitizeBoundingBoxes ###    \n",
      "     ### Transform @ConvertPILImage ###    \n",
      "     ### Transform @ConvertBoxes ###    \n",
      "     ### Mosaic with Prob.@0.5 and ZoomOut/IoUCrop existed ### \n",
      "     ### ImgTransforms Epochs: [2, 35, 63] ### \n",
      "     ### Policy_ops@['Mosaic', 'RandomPhotometricDistort', 'RandomZoomOut', 'RandomIoUCrop'] ###\n",
      "     ### Using MixUp with Prob@0.5 in [2, 35] epochs ### \n",
      "     ### Multi-scale Training until 1000000000 epochs ### \n",
      "     ### Multi-scales@ [224, 256, 288, 320, 320, 320, 320, 320, 320, 320, 320, 320, 320, 320, 320, 320, 320, 320, 320, 320, 320, 320, 320, 384, 352, 320] ###        \n",
      "building val_dataloader with batch_size=10...\n",
      "     ### Transform @Resize ###    \n",
      "     ### Transform @ConvertPILImage ###    \n"
     ]
    },
    {
     "name": "stderr",
     "output_type": "stream",
     "text": [
      "\u001b[32m2025-03-12 15:00:00.590\u001b[0m | \u001b[1mINFO    \u001b[0m | \u001b[36mdeimkit.trainer\u001b[0m:\u001b[36m_setup\u001b[0m:\u001b[36m175\u001b[0m - \u001b[1mTraining setup complete. Output directory: outputs/test_custom_transforms/deim_hgnetv2_n_vehicles\u001b[0m\n",
      "\u001b[32m2025-03-12 15:00:00.591\u001b[0m | \u001b[1mINFO    \u001b[0m | \u001b[36mdeimkit.trainer\u001b[0m:\u001b[36mfit\u001b[0m:\u001b[36m270\u001b[0m - \u001b[1mNumber of trainable parameters: 10235847\u001b[0m\n",
      "\u001b[32m2025-03-12 15:00:00.592\u001b[0m | \u001b[1mINFO    \u001b[0m | \u001b[36mdeimkit.trainer\u001b[0m:\u001b[36mfit\u001b[0m:\u001b[36m276\u001b[0m - \u001b[1mUsing custom scheduler: flatcosine\u001b[0m\n",
      "\u001b[32m2025-03-12 15:00:00.592\u001b[0m | \u001b[1mINFO    \u001b[0m | \u001b[36mdeimkit.trainer\u001b[0m:\u001b[36mfit\u001b[0m:\u001b[36m293\u001b[0m - \u001b[1mEpoch 0/70\u001b[0m\n"
     ]
    },
    {
     "name": "stdout",
     "output_type": "stream",
     "text": [
      "[0.0002, 0.0004, 0.0004] [0.0001, 0.0002, 0.0002] 18410 200 9205 1315\n"
     ]
    },
    {
     "name": "stderr",
     "output_type": "stream",
     "text": [
      "Epoch 0:  22%|██▏       | 57/263 [00:12<00:39,  5.16it/s, loss=28.9524]"
     ]
    },
    {
     "ename": "KeyboardInterrupt",
     "evalue": "",
     "output_type": "error",
     "traceback": [
      "\u001b[31m---------------------------------------------------------------------------\u001b[39m",
      "\u001b[31mKeyboardInterrupt\u001b[39m                         Traceback (most recent call last)",
      "\u001b[36mCell\u001b[39m\u001b[36m \u001b[39m\u001b[32mIn[4]\u001b[39m\u001b[32m, line 2\u001b[39m\n\u001b[32m      1\u001b[39m trainer = Trainer(conf)\n\u001b[32m----> \u001b[39m\u001b[32m2\u001b[39m \u001b[43mtrainer\u001b[49m\u001b[43m.\u001b[49m\u001b[43mfit\u001b[49m\u001b[43m(\u001b[49m\u001b[43mepochs\u001b[49m\u001b[43m=\u001b[49m\u001b[32;43m70\u001b[39;49m\u001b[43m,\u001b[49m\u001b[43m \u001b[49m\u001b[43mflat_epoch\u001b[49m\u001b[43m=\u001b[49m\u001b[32;43m35\u001b[39;49m\u001b[43m,\u001b[49m\u001b[43m \u001b[49m\u001b[43mno_aug_epoch\u001b[49m\u001b[43m=\u001b[49m\u001b[32;43m5\u001b[39;49m\u001b[43m,\u001b[49m\u001b[43m \u001b[49m\u001b[43mwarmup_iter\u001b[49m\u001b[43m=\u001b[49m\u001b[32;43m200\u001b[39;49m\u001b[43m,\u001b[49m\u001b[43m \u001b[49m\u001b[43mema_warmups\u001b[49m\u001b[43m=\u001b[49m\u001b[32;43m200\u001b[39;49m\u001b[43m)\u001b[49m\n",
      "\u001b[36mFile \u001b[39m\u001b[32m~/Desktop/DEIMKit/src/deimkit/trainer.py:299\u001b[39m, in \u001b[36mTrainer.fit\u001b[39m\u001b[34m(self, epochs, flat_epoch, no_aug_epoch, warmup_iter, ema_warmups, lr, stop_epoch, mixup_epochs)\u001b[39m\n\u001b[32m    296\u001b[39m     \u001b[38;5;28mself\u001b[39m.train_dataloader.set_epoch(epoch)\n\u001b[32m    298\u001b[39m \u001b[38;5;66;03m# Train for one epoch\u001b[39;00m\n\u001b[32m--> \u001b[39m\u001b[32m299\u001b[39m train_stats = \u001b[43mtrain_one_epoch\u001b[49m\u001b[43m(\u001b[49m\n\u001b[32m    300\u001b[39m \u001b[43m    \u001b[49m\u001b[43mself_lr_scheduler\u001b[49m\u001b[43m,\u001b[49m\n\u001b[32m    301\u001b[39m \u001b[43m    \u001b[49m\u001b[38;5;28;43mself\u001b[39;49m\u001b[43m.\u001b[49m\u001b[43mlr_scheduler\u001b[49m\u001b[43m,\u001b[49m\n\u001b[32m    302\u001b[39m \u001b[43m    \u001b[49m\u001b[38;5;28;43mself\u001b[39;49m\u001b[43m.\u001b[49m\u001b[43mmodel\u001b[49m\u001b[43m,\u001b[49m\n\u001b[32m    303\u001b[39m \u001b[43m    \u001b[49m\u001b[38;5;28;43mself\u001b[39;49m\u001b[43m.\u001b[49m\u001b[43mcriterion\u001b[49m\u001b[43m,\u001b[49m\n\u001b[32m    304\u001b[39m \u001b[43m    \u001b[49m\u001b[38;5;28;43mself\u001b[39;49m\u001b[43m.\u001b[49m\u001b[43mtrain_dataloader\u001b[49m\u001b[43m,\u001b[49m\n\u001b[32m    305\u001b[39m \u001b[43m    \u001b[49m\u001b[38;5;28;43mself\u001b[39;49m\u001b[43m.\u001b[49m\u001b[43moptimizer\u001b[49m\u001b[43m,\u001b[49m\n\u001b[32m    306\u001b[39m \u001b[43m    \u001b[49m\u001b[38;5;28;43mself\u001b[39;49m\u001b[43m.\u001b[49m\u001b[43mdevice\u001b[49m\u001b[43m,\u001b[49m\n\u001b[32m    307\u001b[39m \u001b[43m    \u001b[49m\u001b[43mepoch\u001b[49m\u001b[43m,\u001b[49m\n\u001b[32m    308\u001b[39m \u001b[43m    \u001b[49m\u001b[43mmax_norm\u001b[49m\u001b[43m=\u001b[49m\u001b[43mclip_max_norm\u001b[49m\u001b[43m,\u001b[49m\n\u001b[32m    309\u001b[39m \u001b[43m    \u001b[49m\u001b[43mprint_freq\u001b[49m\u001b[43m=\u001b[49m\u001b[43mprint_freq\u001b[49m\u001b[43m,\u001b[49m\n\u001b[32m    310\u001b[39m \u001b[43m    \u001b[49m\u001b[43mema\u001b[49m\u001b[43m=\u001b[49m\u001b[38;5;28;43mself\u001b[39;49m\u001b[43m.\u001b[49m\u001b[43mema\u001b[49m\u001b[43m,\u001b[49m\n\u001b[32m    311\u001b[39m \u001b[43m    \u001b[49m\u001b[43mscaler\u001b[49m\u001b[43m=\u001b[49m\u001b[38;5;28;43mself\u001b[39;49m\u001b[43m.\u001b[49m\u001b[43mscaler\u001b[49m\u001b[43m,\u001b[49m\n\u001b[32m    312\u001b[39m \u001b[43m    \u001b[49m\u001b[43mlr_warmup_scheduler\u001b[49m\u001b[43m=\u001b[49m\u001b[38;5;28;43mself\u001b[39;49m\u001b[43m.\u001b[49m\u001b[43mlr_warmup_scheduler\u001b[49m\u001b[43m,\u001b[49m\n\u001b[32m    313\u001b[39m \u001b[43m    \u001b[49m\u001b[43mwriter\u001b[49m\u001b[43m=\u001b[49m\u001b[38;5;28;43mself\u001b[39;49m\u001b[43m.\u001b[49m\u001b[43msolver\u001b[49m\u001b[43m.\u001b[49m\u001b[43mwriter\u001b[49m\u001b[43m \u001b[49m\u001b[38;5;28;43;01mif\u001b[39;49;00m\u001b[43m \u001b[49m\u001b[38;5;28;43mhasattr\u001b[39;49m\u001b[43m(\u001b[49m\u001b[38;5;28;43mself\u001b[39;49m\u001b[43m.\u001b[49m\u001b[43msolver\u001b[49m\u001b[43m,\u001b[49m\u001b[43m \u001b[49m\u001b[33;43m\"\u001b[39;49m\u001b[33;43mwriter\u001b[39;49m\u001b[33;43m\"\u001b[39;49m\u001b[43m)\u001b[49m\u001b[43m \u001b[49m\u001b[38;5;28;43;01melse\u001b[39;49;00m\u001b[43m \u001b[49m\u001b[38;5;28;43;01mNone\u001b[39;49;00m\u001b[43m,\u001b[49m\n\u001b[32m    314\u001b[39m \u001b[43m\u001b[49m\u001b[43m)\u001b[49m\n\u001b[32m    316\u001b[39m \u001b[38;5;66;03m# Update learning rate scheduler\u001b[39;00m\n\u001b[32m    317\u001b[39m \u001b[38;5;28;01mif\u001b[39;00m \u001b[38;5;129;01mnot\u001b[39;00m self_lr_scheduler:\n",
      "\u001b[36mFile \u001b[39m\u001b[32m~/Desktop/DEIMKit/src/deimkit/engine/solver/det_engine.py:54\u001b[39m, in \u001b[36mtrain_one_epoch\u001b[39m\u001b[34m(self_lr_scheduler, lr_scheduler, model, criterion, data_loader, optimizer, device, epoch, max_norm, **kwargs)\u001b[39m\n\u001b[32m     52\u001b[39m \u001b[38;5;28;01mif\u001b[39;00m scaler \u001b[38;5;129;01mis\u001b[39;00m \u001b[38;5;129;01mnot\u001b[39;00m \u001b[38;5;28;01mNone\u001b[39;00m:\n\u001b[32m     53\u001b[39m     \u001b[38;5;28;01mwith\u001b[39;00m torch.autocast(device_type=\u001b[38;5;28mstr\u001b[39m(device), cache_enabled=\u001b[38;5;28;01mTrue\u001b[39;00m):\n\u001b[32m---> \u001b[39m\u001b[32m54\u001b[39m         outputs = \u001b[43mmodel\u001b[49m\u001b[43m(\u001b[49m\u001b[43msamples\u001b[49m\u001b[43m,\u001b[49m\u001b[43m \u001b[49m\u001b[43mtargets\u001b[49m\u001b[43m=\u001b[49m\u001b[43mtargets\u001b[49m\u001b[43m)\u001b[49m\n\u001b[32m     56\u001b[39m     \u001b[38;5;28;01mif\u001b[39;00m torch.isnan(outputs[\u001b[33m'\u001b[39m\u001b[33mpred_boxes\u001b[39m\u001b[33m'\u001b[39m]).any() \u001b[38;5;129;01mor\u001b[39;00m torch.isinf(outputs[\u001b[33m'\u001b[39m\u001b[33mpred_boxes\u001b[39m\u001b[33m'\u001b[39m]).any():\n\u001b[32m     57\u001b[39m         \u001b[38;5;28mprint\u001b[39m(outputs[\u001b[33m'\u001b[39m\u001b[33mpred_boxes\u001b[39m\u001b[33m'\u001b[39m])\n",
      "\u001b[36mFile \u001b[39m\u001b[32m~/Desktop/DEIMKit/.pixi/envs/default/lib/python3.12/site-packages/torch/nn/modules/module.py:1736\u001b[39m, in \u001b[36mModule._wrapped_call_impl\u001b[39m\u001b[34m(self, *args, **kwargs)\u001b[39m\n\u001b[32m   1734\u001b[39m     \u001b[38;5;28;01mreturn\u001b[39;00m \u001b[38;5;28mself\u001b[39m._compiled_call_impl(*args, **kwargs)  \u001b[38;5;66;03m# type: ignore[misc]\u001b[39;00m\n\u001b[32m   1735\u001b[39m \u001b[38;5;28;01melse\u001b[39;00m:\n\u001b[32m-> \u001b[39m\u001b[32m1736\u001b[39m     \u001b[38;5;28;01mreturn\u001b[39;00m \u001b[38;5;28;43mself\u001b[39;49m\u001b[43m.\u001b[49m\u001b[43m_call_impl\u001b[49m\u001b[43m(\u001b[49m\u001b[43m*\u001b[49m\u001b[43margs\u001b[49m\u001b[43m,\u001b[49m\u001b[43m \u001b[49m\u001b[43m*\u001b[49m\u001b[43m*\u001b[49m\u001b[43mkwargs\u001b[49m\u001b[43m)\u001b[49m\n",
      "\u001b[36mFile \u001b[39m\u001b[32m~/Desktop/DEIMKit/.pixi/envs/default/lib/python3.12/site-packages/torch/nn/modules/module.py:1747\u001b[39m, in \u001b[36mModule._call_impl\u001b[39m\u001b[34m(self, *args, **kwargs)\u001b[39m\n\u001b[32m   1742\u001b[39m \u001b[38;5;66;03m# If we don't have any hooks, we want to skip the rest of the logic in\u001b[39;00m\n\u001b[32m   1743\u001b[39m \u001b[38;5;66;03m# this function, and just call forward.\u001b[39;00m\n\u001b[32m   1744\u001b[39m \u001b[38;5;28;01mif\u001b[39;00m \u001b[38;5;129;01mnot\u001b[39;00m (\u001b[38;5;28mself\u001b[39m._backward_hooks \u001b[38;5;129;01mor\u001b[39;00m \u001b[38;5;28mself\u001b[39m._backward_pre_hooks \u001b[38;5;129;01mor\u001b[39;00m \u001b[38;5;28mself\u001b[39m._forward_hooks \u001b[38;5;129;01mor\u001b[39;00m \u001b[38;5;28mself\u001b[39m._forward_pre_hooks\n\u001b[32m   1745\u001b[39m         \u001b[38;5;129;01mor\u001b[39;00m _global_backward_pre_hooks \u001b[38;5;129;01mor\u001b[39;00m _global_backward_hooks\n\u001b[32m   1746\u001b[39m         \u001b[38;5;129;01mor\u001b[39;00m _global_forward_hooks \u001b[38;5;129;01mor\u001b[39;00m _global_forward_pre_hooks):\n\u001b[32m-> \u001b[39m\u001b[32m1747\u001b[39m     \u001b[38;5;28;01mreturn\u001b[39;00m \u001b[43mforward_call\u001b[49m\u001b[43m(\u001b[49m\u001b[43m*\u001b[49m\u001b[43margs\u001b[49m\u001b[43m,\u001b[49m\u001b[43m \u001b[49m\u001b[43m*\u001b[49m\u001b[43m*\u001b[49m\u001b[43mkwargs\u001b[49m\u001b[43m)\u001b[49m\n\u001b[32m   1749\u001b[39m result = \u001b[38;5;28;01mNone\u001b[39;00m\n\u001b[32m   1750\u001b[39m called_always_called_hooks = \u001b[38;5;28mset\u001b[39m()\n",
      "\u001b[36mFile \u001b[39m\u001b[32m~/Desktop/DEIMKit/.pixi/envs/default/lib/python3.12/site-packages/torch/nn/parallel/distributed.py:1643\u001b[39m, in \u001b[36mDistributedDataParallel.forward\u001b[39m\u001b[34m(self, *inputs, **kwargs)\u001b[39m\n\u001b[32m   1638\u001b[39m \u001b[38;5;28;01mwith\u001b[39;00m torch.autograd.profiler.record_function(\u001b[33m\"\u001b[39m\u001b[33mDistributedDataParallel.forward\u001b[39m\u001b[33m\"\u001b[39m):\n\u001b[32m   1639\u001b[39m     inputs, kwargs = \u001b[38;5;28mself\u001b[39m._pre_forward(*inputs, **kwargs)\n\u001b[32m   1640\u001b[39m     output = (\n\u001b[32m   1641\u001b[39m         \u001b[38;5;28mself\u001b[39m.module.forward(*inputs, **kwargs)\n\u001b[32m   1642\u001b[39m         \u001b[38;5;28;01mif\u001b[39;00m \u001b[38;5;28mself\u001b[39m._delay_all_reduce_all_params\n\u001b[32m-> \u001b[39m\u001b[32m1643\u001b[39m         \u001b[38;5;28;01melse\u001b[39;00m \u001b[38;5;28;43mself\u001b[39;49m\u001b[43m.\u001b[49m\u001b[43m_run_ddp_forward\u001b[49m\u001b[43m(\u001b[49m\u001b[43m*\u001b[49m\u001b[43minputs\u001b[49m\u001b[43m,\u001b[49m\u001b[43m \u001b[49m\u001b[43m*\u001b[49m\u001b[43m*\u001b[49m\u001b[43mkwargs\u001b[49m\u001b[43m)\u001b[49m\n\u001b[32m   1644\u001b[39m     )\n\u001b[32m   1645\u001b[39m     \u001b[38;5;28;01mreturn\u001b[39;00m \u001b[38;5;28mself\u001b[39m._post_forward(output)\n",
      "\u001b[36mFile \u001b[39m\u001b[32m~/Desktop/DEIMKit/.pixi/envs/default/lib/python3.12/site-packages/torch/nn/parallel/distributed.py:1459\u001b[39m, in \u001b[36mDistributedDataParallel._run_ddp_forward\u001b[39m\u001b[34m(self, *inputs, **kwargs)\u001b[39m\n\u001b[32m   1457\u001b[39m \u001b[38;5;28;01melse\u001b[39;00m:\n\u001b[32m   1458\u001b[39m     \u001b[38;5;28;01mwith\u001b[39;00m \u001b[38;5;28mself\u001b[39m._inside_ddp_forward():\n\u001b[32m-> \u001b[39m\u001b[32m1459\u001b[39m         \u001b[38;5;28;01mreturn\u001b[39;00m \u001b[38;5;28;43mself\u001b[39;49m\u001b[43m.\u001b[49m\u001b[43mmodule\u001b[49m\u001b[43m(\u001b[49m\u001b[43m*\u001b[49m\u001b[43minputs\u001b[49m\u001b[43m,\u001b[49m\u001b[43m \u001b[49m\u001b[43m*\u001b[49m\u001b[43m*\u001b[49m\u001b[43mkwargs\u001b[49m\u001b[43m)\u001b[49m\n",
      "\u001b[36mFile \u001b[39m\u001b[32m~/Desktop/DEIMKit/.pixi/envs/default/lib/python3.12/site-packages/torch/nn/modules/module.py:1736\u001b[39m, in \u001b[36mModule._wrapped_call_impl\u001b[39m\u001b[34m(self, *args, **kwargs)\u001b[39m\n\u001b[32m   1734\u001b[39m     \u001b[38;5;28;01mreturn\u001b[39;00m \u001b[38;5;28mself\u001b[39m._compiled_call_impl(*args, **kwargs)  \u001b[38;5;66;03m# type: ignore[misc]\u001b[39;00m\n\u001b[32m   1735\u001b[39m \u001b[38;5;28;01melse\u001b[39;00m:\n\u001b[32m-> \u001b[39m\u001b[32m1736\u001b[39m     \u001b[38;5;28;01mreturn\u001b[39;00m \u001b[38;5;28;43mself\u001b[39;49m\u001b[43m.\u001b[49m\u001b[43m_call_impl\u001b[49m\u001b[43m(\u001b[49m\u001b[43m*\u001b[49m\u001b[43margs\u001b[49m\u001b[43m,\u001b[49m\u001b[43m \u001b[49m\u001b[43m*\u001b[49m\u001b[43m*\u001b[49m\u001b[43mkwargs\u001b[49m\u001b[43m)\u001b[49m\n",
      "\u001b[36mFile \u001b[39m\u001b[32m~/Desktop/DEIMKit/.pixi/envs/default/lib/python3.12/site-packages/torch/nn/modules/module.py:1747\u001b[39m, in \u001b[36mModule._call_impl\u001b[39m\u001b[34m(self, *args, **kwargs)\u001b[39m\n\u001b[32m   1742\u001b[39m \u001b[38;5;66;03m# If we don't have any hooks, we want to skip the rest of the logic in\u001b[39;00m\n\u001b[32m   1743\u001b[39m \u001b[38;5;66;03m# this function, and just call forward.\u001b[39;00m\n\u001b[32m   1744\u001b[39m \u001b[38;5;28;01mif\u001b[39;00m \u001b[38;5;129;01mnot\u001b[39;00m (\u001b[38;5;28mself\u001b[39m._backward_hooks \u001b[38;5;129;01mor\u001b[39;00m \u001b[38;5;28mself\u001b[39m._backward_pre_hooks \u001b[38;5;129;01mor\u001b[39;00m \u001b[38;5;28mself\u001b[39m._forward_hooks \u001b[38;5;129;01mor\u001b[39;00m \u001b[38;5;28mself\u001b[39m._forward_pre_hooks\n\u001b[32m   1745\u001b[39m         \u001b[38;5;129;01mor\u001b[39;00m _global_backward_pre_hooks \u001b[38;5;129;01mor\u001b[39;00m _global_backward_hooks\n\u001b[32m   1746\u001b[39m         \u001b[38;5;129;01mor\u001b[39;00m _global_forward_hooks \u001b[38;5;129;01mor\u001b[39;00m _global_forward_pre_hooks):\n\u001b[32m-> \u001b[39m\u001b[32m1747\u001b[39m     \u001b[38;5;28;01mreturn\u001b[39;00m \u001b[43mforward_call\u001b[49m\u001b[43m(\u001b[49m\u001b[43m*\u001b[49m\u001b[43margs\u001b[49m\u001b[43m,\u001b[49m\u001b[43m \u001b[49m\u001b[43m*\u001b[49m\u001b[43m*\u001b[49m\u001b[43mkwargs\u001b[49m\u001b[43m)\u001b[49m\n\u001b[32m   1749\u001b[39m result = \u001b[38;5;28;01mNone\u001b[39;00m\n\u001b[32m   1750\u001b[39m called_always_called_hooks = \u001b[38;5;28mset\u001b[39m()\n",
      "\u001b[36mFile \u001b[39m\u001b[32m~/Desktop/DEIMKit/src/deimkit/engine/deim/deim.py:29\u001b[39m, in \u001b[36mDEIM.forward\u001b[39m\u001b[34m(self, x, targets)\u001b[39m\n\u001b[32m     27\u001b[39m x = \u001b[38;5;28mself\u001b[39m.backbone(x)\n\u001b[32m     28\u001b[39m x = \u001b[38;5;28mself\u001b[39m.encoder(x)\n\u001b[32m---> \u001b[39m\u001b[32m29\u001b[39m x = \u001b[38;5;28;43mself\u001b[39;49m\u001b[43m.\u001b[49m\u001b[43mdecoder\u001b[49m\u001b[43m(\u001b[49m\u001b[43mx\u001b[49m\u001b[43m,\u001b[49m\u001b[43m \u001b[49m\u001b[43mtargets\u001b[49m\u001b[43m)\u001b[49m\n\u001b[32m     31\u001b[39m \u001b[38;5;28;01mreturn\u001b[39;00m x\n",
      "\u001b[36mFile \u001b[39m\u001b[32m~/Desktop/DEIMKit/.pixi/envs/default/lib/python3.12/site-packages/torch/nn/modules/module.py:1736\u001b[39m, in \u001b[36mModule._wrapped_call_impl\u001b[39m\u001b[34m(self, *args, **kwargs)\u001b[39m\n\u001b[32m   1734\u001b[39m     \u001b[38;5;28;01mreturn\u001b[39;00m \u001b[38;5;28mself\u001b[39m._compiled_call_impl(*args, **kwargs)  \u001b[38;5;66;03m# type: ignore[misc]\u001b[39;00m\n\u001b[32m   1735\u001b[39m \u001b[38;5;28;01melse\u001b[39;00m:\n\u001b[32m-> \u001b[39m\u001b[32m1736\u001b[39m     \u001b[38;5;28;01mreturn\u001b[39;00m \u001b[38;5;28;43mself\u001b[39;49m\u001b[43m.\u001b[49m\u001b[43m_call_impl\u001b[49m\u001b[43m(\u001b[49m\u001b[43m*\u001b[49m\u001b[43margs\u001b[49m\u001b[43m,\u001b[49m\u001b[43m \u001b[49m\u001b[43m*\u001b[49m\u001b[43m*\u001b[49m\u001b[43mkwargs\u001b[49m\u001b[43m)\u001b[49m\n",
      "\u001b[36mFile \u001b[39m\u001b[32m~/Desktop/DEIMKit/.pixi/envs/default/lib/python3.12/site-packages/torch/nn/modules/module.py:1747\u001b[39m, in \u001b[36mModule._call_impl\u001b[39m\u001b[34m(self, *args, **kwargs)\u001b[39m\n\u001b[32m   1742\u001b[39m \u001b[38;5;66;03m# If we don't have any hooks, we want to skip the rest of the logic in\u001b[39;00m\n\u001b[32m   1743\u001b[39m \u001b[38;5;66;03m# this function, and just call forward.\u001b[39;00m\n\u001b[32m   1744\u001b[39m \u001b[38;5;28;01mif\u001b[39;00m \u001b[38;5;129;01mnot\u001b[39;00m (\u001b[38;5;28mself\u001b[39m._backward_hooks \u001b[38;5;129;01mor\u001b[39;00m \u001b[38;5;28mself\u001b[39m._backward_pre_hooks \u001b[38;5;129;01mor\u001b[39;00m \u001b[38;5;28mself\u001b[39m._forward_hooks \u001b[38;5;129;01mor\u001b[39;00m \u001b[38;5;28mself\u001b[39m._forward_pre_hooks\n\u001b[32m   1745\u001b[39m         \u001b[38;5;129;01mor\u001b[39;00m _global_backward_pre_hooks \u001b[38;5;129;01mor\u001b[39;00m _global_backward_hooks\n\u001b[32m   1746\u001b[39m         \u001b[38;5;129;01mor\u001b[39;00m _global_forward_hooks \u001b[38;5;129;01mor\u001b[39;00m _global_forward_pre_hooks):\n\u001b[32m-> \u001b[39m\u001b[32m1747\u001b[39m     \u001b[38;5;28;01mreturn\u001b[39;00m \u001b[43mforward_call\u001b[49m\u001b[43m(\u001b[49m\u001b[43m*\u001b[49m\u001b[43margs\u001b[49m\u001b[43m,\u001b[49m\u001b[43m \u001b[49m\u001b[43m*\u001b[49m\u001b[43m*\u001b[49m\u001b[43mkwargs\u001b[49m\u001b[43m)\u001b[49m\n\u001b[32m   1749\u001b[39m result = \u001b[38;5;28;01mNone\u001b[39;00m\n\u001b[32m   1750\u001b[39m called_always_called_hooks = \u001b[38;5;28mset\u001b[39m()\n",
      "\u001b[36mFile \u001b[39m\u001b[32m~/Desktop/DEIMKit/src/deimkit/engine/deim/dfine_decoder.py:727\u001b[39m, in \u001b[36mDFINETransformer.forward\u001b[39m\u001b[34m(self, feats, targets)\u001b[39m\n\u001b[32m    723\u001b[39m init_ref_contents, init_ref_points_unact, enc_topk_bboxes_list, enc_topk_logits_list = \\\n\u001b[32m    724\u001b[39m     \u001b[38;5;28mself\u001b[39m._get_decoder_input(memory, spatial_shapes, denoising_logits, denoising_bbox_unact)\n\u001b[32m    726\u001b[39m \u001b[38;5;66;03m# decoder\u001b[39;00m\n\u001b[32m--> \u001b[39m\u001b[32m727\u001b[39m out_bboxes, out_logits, out_corners, out_refs, pre_bboxes, pre_logits = \u001b[38;5;28;43mself\u001b[39;49m\u001b[43m.\u001b[49m\u001b[43mdecoder\u001b[49m\u001b[43m(\u001b[49m\n\u001b[32m    728\u001b[39m \u001b[43m    \u001b[49m\u001b[43minit_ref_contents\u001b[49m\u001b[43m,\u001b[49m\n\u001b[32m    729\u001b[39m \u001b[43m    \u001b[49m\u001b[43minit_ref_points_unact\u001b[49m\u001b[43m,\u001b[49m\n\u001b[32m    730\u001b[39m \u001b[43m    \u001b[49m\u001b[43mmemory\u001b[49m\u001b[43m,\u001b[49m\n\u001b[32m    731\u001b[39m \u001b[43m    \u001b[49m\u001b[43mspatial_shapes\u001b[49m\u001b[43m,\u001b[49m\n\u001b[32m    732\u001b[39m \u001b[43m    \u001b[49m\u001b[38;5;28;43mself\u001b[39;49m\u001b[43m.\u001b[49m\u001b[43mdec_bbox_head\u001b[49m\u001b[43m,\u001b[49m\n\u001b[32m    733\u001b[39m \u001b[43m    \u001b[49m\u001b[38;5;28;43mself\u001b[39;49m\u001b[43m.\u001b[49m\u001b[43mdec_score_head\u001b[49m\u001b[43m,\u001b[49m\n\u001b[32m    734\u001b[39m \u001b[43m    \u001b[49m\u001b[38;5;28;43mself\u001b[39;49m\u001b[43m.\u001b[49m\u001b[43mquery_pos_head\u001b[49m\u001b[43m,\u001b[49m\n\u001b[32m    735\u001b[39m \u001b[43m    \u001b[49m\u001b[38;5;28;43mself\u001b[39;49m\u001b[43m.\u001b[49m\u001b[43mpre_bbox_head\u001b[49m\u001b[43m,\u001b[49m\n\u001b[32m    736\u001b[39m \u001b[43m    \u001b[49m\u001b[38;5;28;43mself\u001b[39;49m\u001b[43m.\u001b[49m\u001b[43mintegral\u001b[49m\u001b[43m,\u001b[49m\n\u001b[32m    737\u001b[39m \u001b[43m    \u001b[49m\u001b[38;5;28;43mself\u001b[39;49m\u001b[43m.\u001b[49m\u001b[43mup\u001b[49m\u001b[43m,\u001b[49m\n\u001b[32m    738\u001b[39m \u001b[43m    \u001b[49m\u001b[38;5;28;43mself\u001b[39;49m\u001b[43m.\u001b[49m\u001b[43mreg_scale\u001b[49m\u001b[43m,\u001b[49m\n\u001b[32m    739\u001b[39m \u001b[43m    \u001b[49m\u001b[43mattn_mask\u001b[49m\u001b[43m=\u001b[49m\u001b[43mattn_mask\u001b[49m\u001b[43m,\u001b[49m\n\u001b[32m    740\u001b[39m \u001b[43m    \u001b[49m\u001b[43mdn_meta\u001b[49m\u001b[43m=\u001b[49m\u001b[43mdn_meta\u001b[49m\u001b[43m)\u001b[49m\n\u001b[32m    742\u001b[39m \u001b[38;5;28;01mif\u001b[39;00m \u001b[38;5;28mself\u001b[39m.training \u001b[38;5;129;01mand\u001b[39;00m dn_meta \u001b[38;5;129;01mis\u001b[39;00m \u001b[38;5;129;01mnot\u001b[39;00m \u001b[38;5;28;01mNone\u001b[39;00m:\n\u001b[32m    743\u001b[39m     \u001b[38;5;66;03m# the output from the first decoder layer, only one\u001b[39;00m\n\u001b[32m    744\u001b[39m     dn_pre_logits, pre_logits = torch.split(pre_logits, dn_meta[\u001b[33m'\u001b[39m\u001b[33mdn_num_split\u001b[39m\u001b[33m'\u001b[39m], dim=\u001b[32m1\u001b[39m)\n",
      "\u001b[36mFile \u001b[39m\u001b[32m~/Desktop/DEIMKit/.pixi/envs/default/lib/python3.12/site-packages/torch/nn/modules/module.py:1736\u001b[39m, in \u001b[36mModule._wrapped_call_impl\u001b[39m\u001b[34m(self, *args, **kwargs)\u001b[39m\n\u001b[32m   1734\u001b[39m     \u001b[38;5;28;01mreturn\u001b[39;00m \u001b[38;5;28mself\u001b[39m._compiled_call_impl(*args, **kwargs)  \u001b[38;5;66;03m# type: ignore[misc]\u001b[39;00m\n\u001b[32m   1735\u001b[39m \u001b[38;5;28;01melse\u001b[39;00m:\n\u001b[32m-> \u001b[39m\u001b[32m1736\u001b[39m     \u001b[38;5;28;01mreturn\u001b[39;00m \u001b[38;5;28;43mself\u001b[39;49m\u001b[43m.\u001b[49m\u001b[43m_call_impl\u001b[49m\u001b[43m(\u001b[49m\u001b[43m*\u001b[49m\u001b[43margs\u001b[49m\u001b[43m,\u001b[49m\u001b[43m \u001b[49m\u001b[43m*\u001b[49m\u001b[43m*\u001b[49m\u001b[43mkwargs\u001b[49m\u001b[43m)\u001b[49m\n",
      "\u001b[36mFile \u001b[39m\u001b[32m~/Desktop/DEIMKit/.pixi/envs/default/lib/python3.12/site-packages/torch/nn/modules/module.py:1747\u001b[39m, in \u001b[36mModule._call_impl\u001b[39m\u001b[34m(self, *args, **kwargs)\u001b[39m\n\u001b[32m   1742\u001b[39m \u001b[38;5;66;03m# If we don't have any hooks, we want to skip the rest of the logic in\u001b[39;00m\n\u001b[32m   1743\u001b[39m \u001b[38;5;66;03m# this function, and just call forward.\u001b[39;00m\n\u001b[32m   1744\u001b[39m \u001b[38;5;28;01mif\u001b[39;00m \u001b[38;5;129;01mnot\u001b[39;00m (\u001b[38;5;28mself\u001b[39m._backward_hooks \u001b[38;5;129;01mor\u001b[39;00m \u001b[38;5;28mself\u001b[39m._backward_pre_hooks \u001b[38;5;129;01mor\u001b[39;00m \u001b[38;5;28mself\u001b[39m._forward_hooks \u001b[38;5;129;01mor\u001b[39;00m \u001b[38;5;28mself\u001b[39m._forward_pre_hooks\n\u001b[32m   1745\u001b[39m         \u001b[38;5;129;01mor\u001b[39;00m _global_backward_pre_hooks \u001b[38;5;129;01mor\u001b[39;00m _global_backward_hooks\n\u001b[32m   1746\u001b[39m         \u001b[38;5;129;01mor\u001b[39;00m _global_forward_hooks \u001b[38;5;129;01mor\u001b[39;00m _global_forward_pre_hooks):\n\u001b[32m-> \u001b[39m\u001b[32m1747\u001b[39m     \u001b[38;5;28;01mreturn\u001b[39;00m \u001b[43mforward_call\u001b[49m\u001b[43m(\u001b[49m\u001b[43m*\u001b[49m\u001b[43margs\u001b[49m\u001b[43m,\u001b[49m\u001b[43m \u001b[49m\u001b[43m*\u001b[49m\u001b[43m*\u001b[49m\u001b[43mkwargs\u001b[49m\u001b[43m)\u001b[49m\n\u001b[32m   1749\u001b[39m result = \u001b[38;5;28;01mNone\u001b[39;00m\n\u001b[32m   1750\u001b[39m called_always_called_hooks = \u001b[38;5;28mset\u001b[39m()\n",
      "\u001b[36mFile \u001b[39m\u001b[32m~/Desktop/DEIMKit/src/deimkit/engine/deim/dfine_decoder.py:372\u001b[39m, in \u001b[36mTransformerDecoder.forward\u001b[39m\u001b[34m(self, target, ref_points_unact, memory, spatial_shapes, bbox_head, score_head, query_pos_head, pre_bbox_head, integral, up, reg_scale, attn_mask, memory_mask, dn_meta)\u001b[39m\n\u001b[32m    368\u001b[39m output = layer(output, ref_points_input, value, spatial_shapes, attn_mask, query_pos_embed)\n\u001b[32m    370\u001b[39m \u001b[38;5;28;01mif\u001b[39;00m i == \u001b[32m0\u001b[39m :\n\u001b[32m    371\u001b[39m     \u001b[38;5;66;03m# Initial bounding box predictions with inverse sigmoid refinement\u001b[39;00m\n\u001b[32m--> \u001b[39m\u001b[32m372\u001b[39m     pre_bboxes = F.sigmoid(pre_bbox_head(output) + \u001b[43minverse_sigmoid\u001b[49m\u001b[43m(\u001b[49m\u001b[43mref_points_detach\u001b[49m\u001b[43m)\u001b[49m)\n\u001b[32m    373\u001b[39m     pre_scores = score_head[\u001b[32m0\u001b[39m](output)\n\u001b[32m    374\u001b[39m     ref_points_initial = pre_bboxes.detach()\n",
      "\u001b[36mFile \u001b[39m\u001b[32m~/Desktop/DEIMKit/src/deimkit/engine/deim/utils.py:18\u001b[39m, in \u001b[36minverse_sigmoid\u001b[39m\u001b[34m(x, eps)\u001b[39m\n\u001b[32m     17\u001b[39m \u001b[38;5;28;01mdef\u001b[39;00m\u001b[38;5;250m \u001b[39m\u001b[34minverse_sigmoid\u001b[39m(x: torch.Tensor, eps: \u001b[38;5;28mfloat\u001b[39m=\u001b[32m1e-5\u001b[39m) -> torch.Tensor:\n\u001b[32m---> \u001b[39m\u001b[32m18\u001b[39m     x = \u001b[43mx\u001b[49m\u001b[43m.\u001b[49m\u001b[43mclip\u001b[49m\u001b[43m(\u001b[49m\u001b[38;5;28;43mmin\u001b[39;49m\u001b[43m=\u001b[49m\u001b[32;43m0.\u001b[39;49m\u001b[43m,\u001b[49m\u001b[43m \u001b[49m\u001b[38;5;28;43mmax\u001b[39;49m\u001b[43m=\u001b[49m\u001b[32;43m1.\u001b[39;49m\u001b[43m)\u001b[49m\n\u001b[32m     19\u001b[39m     \u001b[38;5;28;01mreturn\u001b[39;00m torch.log(x.clip(\u001b[38;5;28mmin\u001b[39m=eps) / (\u001b[32m1\u001b[39m - x).clip(\u001b[38;5;28mmin\u001b[39m=eps))\n",
      "\u001b[31mKeyboardInterrupt\u001b[39m: "
     ]
    }
   ],
   "source": [
    "trainer = Trainer(conf)\n",
    "trainer.fit(epochs=70, flat_epoch=35, no_aug_epoch=5, warmup_iter=200, ema_warmups=200)"
   ]
  },
  {
   "cell_type": "code",
   "execution_count": 7,
   "metadata": {},
   "outputs": [
    {
     "data": {
      "text/plain": [
       "task: detection\n",
       "num_workers: 0\n",
       "batch_size: None\n",
       "resume: None\n",
       "tuning: None\n",
       "epoches: 70\n",
       "last_epoch: -1\n",
       "lrsheduler: flatcosine\n",
       "lr_gamma: 0.5\n",
       "no_aug_epoch: 5\n",
       "warmup_iter: 200\n",
       "flat_epoch: 35\n",
       "use_amp: True\n",
       "use_ema: True\n",
       "ema_decay: 0.9999\n",
       "ema_warmups: 200\n",
       "sync_bn: False\n",
       "clip_max_norm: 0.1\n",
       "find_unused_parameters: False\n",
       "seed: None\n",
       "print_freq: 100\n",
       "checkpoint_freq: 4\n",
       "output_dir: ./outputs/test_custom_transforms/deim_hgnetv2_n_vehicles\n",
       "summary_dir: None\n",
       "device: \n",
       "yaml_cfg: {'task': 'detection', 'evaluator': {'type': 'CocoEvaluator', 'iou_types': ['bbox']}, 'num_classes': 13, 'remap_mscoco_category': False, 'train_dataloader': {'type': 'DataLoader', 'dataset': {'type': 'CocoDetection', 'img_folder': '/home/dnth/Downloads/vehicles.v2-release.coco/train', 'ann_file': '/home/dnth/Downloads/vehicles.v2-release.coco/train/_annotations.coco.json', 'return_masks': False, 'transforms': {'type': 'Compose', 'ops': [{'type': 'Mosaic', 'fill_value': 0, 'max_cached_images': 50, 'output_size': 320, 'probability': 1.0, 'random_pop': True, 'rotation_range': 10, 'scaling_range': [0.5, 1.5], 'translation_range': [0.1, 0.1], 'use_cache': False}, {'type': 'RandomPhotometricDistort', 'p': 0.5}, {'type': 'RandomZoomOut', 'fill': 0}, {'type': 'RandomIoUCrop', 'p': 0.8}, {'type': 'SanitizeBoundingBoxes', 'min_size': 1}, {'type': 'RandomHorizontalFlip'}, {'type': 'Resize', 'size': [320, 320]}, {'type': 'SanitizeBoundingBoxes', 'min_size': 1}, {'type': 'ConvertPILImage', 'dtype': 'float32', 'scale': True}, {'type': 'ConvertBoxes', 'fmt': 'cxcywh', 'normalize': True}], 'policy': {'name': 'stop_epoch', 'epoch': [2, 35, 63], 'ops': ['Mosaic', 'RandomPhotometricDistort', 'RandomZoomOut', 'RandomIoUCrop']}, 'mosaic_prob': 0.5}}, 'shuffle': True, 'num_workers': 4, 'drop_last': True, 'collate_fn': {'type': 'BatchImageCollateFunction', 'base_size': 320, 'base_size_repeat': 20, 'stop_epoch': 1000000000, 'ema_restart_decay': 0.9999, 'mixup_prob': 0.5, 'mixup_epochs': [2, 35]}, 'total_batch_size': 10}, 'val_dataloader': {'type': 'DataLoader', 'dataset': {'type': 'CocoDetection', 'img_folder': '/home/dnth/Downloads/vehicles.v2-release.coco/valid', 'ann_file': '/home/dnth/Downloads/vehicles.v2-release.coco/valid/_annotations.coco.json', 'return_masks': False, 'transforms': {'type': 'Compose', 'ops': [{'type': 'Resize', 'size': [320, 320]}, {'type': 'ConvertPILImage', 'dtype': 'float32', 'scale': True}]}}, 'shuffle': False, 'num_workers': 4, 'drop_last': False, 'collate_fn': {'type': 'BatchImageCollateFunction'}, 'total_batch_size': 10}, 'print_freq': 100, 'output_dir': './outputs/deim_hgnetv2_s_coco', 'checkpoint_freq': 4, 'sync_bn': True, 'find_unused_parameters': False, 'use_amp': True, 'scaler': {'type': 'GradScaler', 'enabled': True}, 'use_ema': True, 'ema': {'type': 'ModelEMA', 'decay': 0.9999, 'warmups': 1000, 'start': 0}, 'epoches': 132, 'clip_max_norm': 0.1, 'optimizer': {'type': 'AdamW', 'params': [{'params': '^(?=.*backbone)(?!.*bn).*$', 'lr': 0.0002}, {'params': '^(?=.*(?:norm|bn)).*$', 'weight_decay': 0.0}], 'lr': 0.0004, 'betas': [0.9, 0.999], 'weight_decay': 0.0001}, 'lr_scheduler': {'type': 'MultiStepLR', 'milestones': [500], 'gamma': 0.1}, 'lr_warmup_scheduler': {'type': 'LinearWarmup', 'warmup_duration': 500}, 'model': 'DEIM', 'criterion': 'DEIMCriterion', 'postprocessor': 'PostProcessor', 'use_focal_loss': True, 'eval_spatial_size': [320, 320], 'DEIM': {'backbone': 'HGNetv2', 'encoder': 'HybridEncoder', 'decoder': 'DFINETransformer'}, 'lrsheduler': 'flatcosine', 'lr_gamma': 0.5, 'warmup_iter': 2000, 'flat_epoch': 64, 'no_aug_epoch': 12, 'HGNetv2': {'pretrained': False, 'local_model_dir': '../RT-DETR-main/D-FINE/weight/hgnetv2/', 'name': 'B0', 'return_idx': [1, 2, 3], 'freeze_at': -1, 'freeze_norm': False, 'use_lab': True}, 'HybridEncoder': {'in_channels': [256, 512, 1024], 'feat_strides': [8, 16, 32], 'hidden_dim': 256, 'use_encoder_idx': [2], 'num_encoder_layers': 1, 'nhead': 8, 'dim_feedforward': 1024, 'dropout': 0.0, 'enc_act': 'gelu', 'expansion': 0.5, 'depth_mult': 0.34, 'act': 'silu'}, 'DFINETransformer': {'feat_channels': [256, 256, 256], 'feat_strides': [8, 16, 32], 'hidden_dim': 256, 'num_levels': 3, 'num_layers': 3, 'eval_idx': -1, 'num_queries': 300, 'num_denoising': 100, 'label_noise_ratio': 0.5, 'box_noise_scale': 1.0, 'reg_max': 32, 'reg_scale': 4, 'layer_scale': 1, 'num_points': [3, 6, 3], 'cross_attn_method': 'default', 'query_select_method': 'default', 'activation': 'silu', 'mlp_act': 'silu'}, 'PostProcessor': {'num_top_queries': 300}, 'DEIMCriterion': {'weight_dict': {'loss_vfl': 1, 'loss_bbox': 5, 'loss_giou': 2, 'loss_fgl': 0.15, 'loss_ddf': 1.5, 'loss_mal': 1}, 'losses': ['mal', 'boxes', 'local'], 'alpha': 0.75, 'gamma': 1.5, 'reg_max': 32, 'matcher': {'type': 'HungarianMatcher', 'weight_dict': {'cost_class': 2, 'cost_bbox': 5, 'cost_giou': 2}, 'alpha': 0.25, 'gamma': 2.0}}, '__include__': ['./dfine_hgnetv2_s_coco.yml', '../base/deim.yml']}"
      ]
     },
     "execution_count": 7,
     "metadata": {},
     "output_type": "execute_result"
    },
    {
     "ename": "",
     "evalue": "",
     "output_type": "error",
     "traceback": [
      "\u001b[1;31mThe Kernel crashed while executing code in the current cell or a previous cell. \n",
      "\u001b[1;31mPlease review the code in the cell(s) to identify a possible cause of the failure. \n",
      "\u001b[1;31mClick <a href='https://aka.ms/vscodeJupyterKernelCrash'>here</a> for more info. \n",
      "\u001b[1;31mView Jupyter <a href='command:jupyter.viewOutput'>log</a> for further details."
     ]
    }
   ],
   "source": [
    "conf.save(\"custom_transforms_vechicles.yml\")"
   ]
  },
  {
   "cell_type": "code",
   "execution_count": null,
   "metadata": {},
   "outputs": [],
   "source": []
  }
 ],
 "metadata": {
  "kernelspec": {
   "display_name": "default",
   "language": "python",
   "name": "python3"
  },
  "language_info": {
   "codemirror_mode": {
    "name": "ipython",
    "version": 3
   },
   "file_extension": ".py",
   "mimetype": "text/x-python",
   "name": "python",
   "nbconvert_exporter": "python",
   "pygments_lexer": "ipython3",
   "version": "3.12.9"
  }
 },
 "nbformat": 4,
 "nbformat_minor": 2
}
